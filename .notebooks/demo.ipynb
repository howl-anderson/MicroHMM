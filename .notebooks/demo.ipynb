{
 "cells": [
  {
   "cell_type": "markdown",
   "metadata": {},
   "source": [
    "## install pacakge"
   ]
  },
  {
   "cell_type": "code",
   "execution_count": 1,
   "metadata": {
    "scrolled": true
   },
   "outputs": [],
   "source": [
    "!pip install -q git+https://github.com/howl-anderson/MicroHMM.git"
   ]
  },
  {
   "cell_type": "markdown",
   "metadata": {},
   "source": [
    "## demo"
   ]
  },
  {
   "cell_type": "code",
   "execution_count": 2,
   "metadata": {},
   "outputs": [
    {
     "name": "stdout",
     "output_type": "stream",
     "text": [
      "[('你', '人称'), ('是', '动词'), ('中国人', '名词')]\n"
     ]
    }
   ],
   "source": [
    "from MicroHMM.hmm import HMMModel\n",
    "\n",
    "hmm_model = HMMModel()\n",
    "\n",
    "# train model line by line\n",
    "# input format: list of (observation, hidden_state) pair\n",
    "hmm_model.train_one_line([(\"我\", \"人称\"), (\"是\", \"动词\"), (\"中国人\", \"名词\")])\n",
    "hmm_model.train_one_line([(\"你\", \"人称\"), (\"去\", \"动词\"), (\"上海\", \"名词\")])\n",
    "\n",
    "# predict by line\n",
    "# input format: list of observation\n",
    "result = hmm_model.predict([\"你\", \"是\", \"中国人\"])\n",
    "print(result)"
   ]
  }
 ],
 "metadata": {
  "kernelspec": {
   "display_name": "Python 3.6",
   "language": "python",
   "name": "python36"
  },
  "language_info": {
   "codemirror_mode": {
    "name": "ipython",
    "version": 3
   },
   "file_extension": ".py",
   "mimetype": "text/x-python",
   "name": "python",
   "nbconvert_exporter": "python",
   "pygments_lexer": "ipython3",
   "version": "3.6.3"
  }
 },
 "nbformat": 4,
 "nbformat_minor": 2
}
